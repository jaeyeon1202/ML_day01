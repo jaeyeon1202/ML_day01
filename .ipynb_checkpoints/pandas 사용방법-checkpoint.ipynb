{
 "cells": [
  {
   "cell_type": "markdown",
   "id": "afcd7ec4",
   "metadata": {},
   "source": [
    "### juptyer 사용방법\n",
    "* h : help\n",
    "- a,b : 셀 추가\n",
    "* m,y : 마크업 또는 코드\n",
    "* dd : 셀 한칸 삿제\n",
    "* 컨트롤 + 엔터 : 실행"
   ]
  },
  {
   "cell_type": "code",
   "execution_count": 20,
   "id": "0da323bc",
   "metadata": {},
   "outputs": [],
   "source": [
    "#pandas 불러옴\n",
    "import pandas as pd"
   ]
  },
  {
   "cell_type": "code",
   "execution_count": 21,
   "id": "8b446e35",
   "metadata": {},
   "outputs": [],
   "source": [
    "# 데이터 읽기\n",
    "df = pd.read_csv(\"data/1.pandas.csv\")"
   ]
  },
  {
   "cell_type": "code",
   "execution_count": 22,
   "id": "00d8bb4f",
   "metadata": {},
   "outputs": [
    {
     "data": {
      "text/html": [
       "<div>\n",
       "<style scoped>\n",
       "    .dataframe tbody tr th:only-of-type {\n",
       "        vertical-align: middle;\n",
       "    }\n",
       "\n",
       "    .dataframe tbody tr th {\n",
       "        vertical-align: top;\n",
       "    }\n",
       "\n",
       "    .dataframe thead th {\n",
       "        text-align: right;\n",
       "    }\n",
       "</style>\n",
       "<table border=\"1\" class=\"dataframe\">\n",
       "  <thead>\n",
       "    <tr style=\"text-align: right;\">\n",
       "      <th></th>\n",
       "      <th>name</th>\n",
       "      <th>score</th>\n",
       "      <th>grade</th>\n",
       "      <th>age</th>\n",
       "    </tr>\n",
       "  </thead>\n",
       "  <tbody>\n",
       "    <tr>\n",
       "      <th>0</th>\n",
       "      <td>Kim</td>\n",
       "      <td>100.0</td>\n",
       "      <td>A</td>\n",
       "      <td>20</td>\n",
       "    </tr>\n",
       "    <tr>\n",
       "      <th>1</th>\n",
       "      <td>Cho</td>\n",
       "      <td>95.0</td>\n",
       "      <td>A</td>\n",
       "      <td>30</td>\n",
       "    </tr>\n",
       "    <tr>\n",
       "      <th>2</th>\n",
       "      <td>Choi</td>\n",
       "      <td>90.5</td>\n",
       "      <td>B</td>\n",
       "      <td>40</td>\n",
       "    </tr>\n",
       "    <tr>\n",
       "      <th>3</th>\n",
       "      <td>jo</td>\n",
       "      <td>85.7</td>\n",
       "      <td>B</td>\n",
       "      <td>50</td>\n",
       "    </tr>\n",
       "  </tbody>\n",
       "</table>\n",
       "</div>"
      ],
      "text/plain": [
       "   name  score grade  age\n",
       "0   Kim  100.0     A   20\n",
       "1   Cho   95.0     A   30\n",
       "2  Choi   90.5     B   40\n",
       "3    jo   85.7     B   50"
      ]
     },
     "execution_count": 22,
     "metadata": {},
     "output_type": "execute_result"
    }
   ],
   "source": [
    "df"
   ]
  },
  {
   "cell_type": "code",
   "execution_count": 23,
   "id": "f1f4dedb",
   "metadata": {},
   "outputs": [
    {
     "name": "stdout",
     "output_type": "stream",
     "text": [
      "0     Kim\n",
      "1     Cho\n",
      "2    Choi\n",
      "3      jo\n",
      "Name: name, dtype: object\n",
      "0    20\n",
      "1    30\n",
      "2    40\n",
      "3    50\n",
      "Name: age, dtype: int64\n"
     ]
    }
   ],
   "source": [
    "#Series : 1차원 배열\n",
    "#[]Serices 형식으로 가져온다\n",
    "print(df['name']) \n",
    "print(df.age)"
   ]
  },
  {
   "cell_type": "code",
   "execution_count": 24,
   "id": "d5b08f93",
   "metadata": {},
   "outputs": [
    {
     "name": "stdout",
     "output_type": "stream",
     "text": [
      "   name\n",
      "0   Kim\n",
      "1   Cho\n",
      "2  Choi\n",
      "3    jo\n"
     ]
    }
   ],
   "source": [
    "#[[]]DataFrame 형식으로 가져온다\n",
    "print(df[['name']])"
   ]
  },
  {
   "cell_type": "code",
   "execution_count": 25,
   "id": "a3df5605",
   "metadata": {},
   "outputs": [
    {
     "name": "stdout",
     "output_type": "stream",
     "text": [
      "   name  age\n",
      "0   Kim   20\n",
      "1   Cho   30\n",
      "2  Choi   40\n",
      "3    jo   50\n",
      "---인덱싱---\n"
     ]
    }
   ],
   "source": [
    "print(df[['name','age']])\n",
    "print(\"---인덱싱---\")"
   ]
  },
  {
   "cell_type": "code",
   "execution_count": 26,
   "id": "a6340d6f",
   "metadata": {},
   "outputs": [
    {
     "name": "stdout",
     "output_type": "stream",
     "text": [
      "   name  score grade  age\n",
      "1   Cho   95.0     A   30\n",
      "2  Choi   90.5     B   40\n",
      "   name  score grade  age\n",
      "0   Kim  100.0     A   20\n",
      "1   Cho   95.0     A   30\n",
      "2  Choi   90.5     B   40\n",
      "   name  score grade  age\n",
      "1   Cho   95.0     A   30\n",
      "2  Choi   90.5     B   40\n",
      "3    jo   85.7     B   50\n"
     ]
    }
   ],
   "source": [
    "#인덱싱 : 인덱스의 범위를 지정한다.\n",
    "print(df[1:3]) # 1~2까지의 데이터\n",
    "print(df[:3]) #처음부터 ~2까지의 데이터\n",
    "print(df[1:]) #1~끝까지의 데이터"
   ]
  },
  {
   "cell_type": "code",
   "execution_count": 27,
   "id": "0d80f618",
   "metadata": {},
   "outputs": [
    {
     "name": "stdout",
     "output_type": "stream",
     "text": [
      "==loc===\n"
     ]
    }
   ],
   "source": [
    "print(\"==loc===\")\n",
    "#loc : DF.loc[ index조건식, 컬럼 조건식 ]"
   ]
  },
  {
   "cell_type": "code",
   "execution_count": 28,
   "id": "00276826",
   "metadata": {},
   "outputs": [
    {
     "name": "stdout",
     "output_type": "stream",
     "text": [
      "1     Cho\n",
      "2    Choi\n",
      "3      jo\n",
      "Name: name, dtype: object\n",
      "   name  score\n",
      "1   Cho   95.0\n",
      "2  Choi   90.5\n",
      "3    jo   85.7\n",
      "   name  score grade\n",
      "0   Kim  100.0     A\n",
      "1   Cho   95.0     A\n",
      "2  Choi   90.5     B\n",
      "3    jo   85.7     B\n",
      "   name  score grade  age\n",
      "1   Cho   95.0     A   30\n",
      "2  Choi   90.5     B   40\n",
      "3    jo   85.7     B   50\n"
     ]
    }
   ],
   "source": [
    "print(df.loc[1:3, 'name'])\n",
    "\n",
    "print(df.loc[1:3, ['name','score']])\n",
    "\n",
    "print(df.loc[:, 'name':'grade'])\n",
    "\n",
    "print( df.loc[1:3, ])"
   ]
  },
  {
   "cell_type": "code",
   "execution_count": 29,
   "id": "557490b3",
   "metadata": {},
   "outputs": [
    {
     "name": "stdout",
     "output_type": "stream",
     "text": [
      "================\n",
      "0     True\n",
      "1     True\n",
      "2    False\n",
      "3    False\n",
      "Name: grade, dtype: bool\n",
      "  name  score grade  age\n",
      "0  Kim  100.0     A   20\n",
      "1  Cho   95.0     A   30\n"
     ]
    }
   ],
   "source": [
    "print(\"================\")\n",
    "print( df['grade']=='A')\n",
    "print(df[ df['grade']=='A'])"
   ]
  },
  {
   "cell_type": "code",
   "execution_count": null,
   "id": "2178b956",
   "metadata": {},
   "outputs": [],
   "source": []
  },
  {
   "cell_type": "code",
   "execution_count": null,
   "id": "1245292e",
   "metadata": {},
   "outputs": [],
   "source": []
  },
  {
   "cell_type": "code",
   "execution_count": null,
   "id": "1175a21c",
   "metadata": {},
   "outputs": [],
   "source": []
  }
 ],
 "metadata": {
  "kernelspec": {
   "display_name": "Python 3 (ipykernel)",
   "language": "python",
   "name": "python3"
  },
  "language_info": {
   "codemirror_mode": {
    "name": "ipython",
    "version": 3
   },
   "file_extension": ".py",
   "mimetype": "text/x-python",
   "name": "python",
   "nbconvert_exporter": "python",
   "pygments_lexer": "ipython3",
   "version": "3.11.4"
  }
 },
 "nbformat": 4,
 "nbformat_minor": 5
}
